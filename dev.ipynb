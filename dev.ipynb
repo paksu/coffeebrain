{
 "cells": [
  {
   "cell_type": "code",
   "execution_count": null,
   "metadata": {
    "collapsed": true
   },
   "outputs": [],
   "source": [
    "import numpy as np\n",
    "from coffeebrain import dataset\n",
    "from coffeebrain import constants\n",
    "from cStringIO import StringIO\n",
    "from sklearn.svm import SVC\n",
    "from PIL import Image\n",
    "import IPython.display\n",
    "\n",
    "def feature_vector_to_image(a, fmt='png'):\n",
    "    \"\"\"\n",
    "    Helper method for displaying images inside the jupyter playbook\n",
    "    \"\"\"\n",
    "    a = a.reshape((100,100)) \n",
    "    a = np.uint8(a)\n",
    "    f = StringIO()\n",
    "    Image.fromarray(a).save(f, fmt)\n",
    "    IPython.display.display(IPython.display.Image(data=f.getvalue()))\n",
    "\n",
    "# Load the datasets for both sides\n",
    "# dataloader.py should be called beforehand\n",
    "print \"loading left datasets\"\n",
    "left_training_labels, left_training_features = dataset.load_dataset_from_disk('left', 'training')\n",
    "left_testing_labels, left_testing_features = dataset.load_dataset_from_disk('left', 'testing')\n",
    "\n",
    "print \"loading right datasets\"\n",
    "right_training_labels, right_training_features = dataset.load_dataset_from_disk('right', 'training')\n",
    "right_testing_labels, right_testing_features = dataset.load_dataset_from_disk('right', 'testing')\n",
    "\n",
    "# Train left classifier\n",
    "print \"training left\"\n",
    "left_classifier = SVC(kernel=\"linear\", probability=True)\n",
    "left_classifier.fit(left_training_features, left_training_labels)\n",
    "\n",
    "# Train right classifier\n",
    "print \"training right\"\n",
    "right_classifier = SVC(kernel=\"linear\", probability=True)\n",
    "right_classifier.fit(right_training_features, right_training_labels)\n",
    "\n",
    "# Score the classifiers\n",
    "left_accuracy = left_classifier.score(left_testing_features, left_testing_labels)\n",
    "right_accuracy = right_classifier.score(right_testing_features, right_testing_labels)\n",
    "\n",
    "print \"left accuracy was %.2f percent\" % (left_accuracy *100)\n",
    "print \"right accuracy was %.2f percent\" % (right_accuracy *100)\n",
    "\n",
    "print \"\\n\\nLEFT PREDICTIONS THAT WERE WRONG\"\n",
    "\n",
    "for i, label in enumerate(left_testing_labels):\n",
    "    testing_label = left_testing_labels[i]\n",
    "    prediction_result = left_classifier.predict([left_testing_features[i]])[0]\n",
    "    prediction_probablity = left_classifier.predict_proba([left_testing_features[i]])[0].max()\n",
    "    if prediction_result != testing_label:\n",
    "        print \"predicted %s (but should be %s) with confidence %.2f\" % (constants.REVERSE_LABELS[prediction_result], constants.REVERSE_LABELS[testing_label], prediction_probablity *100)\n",
    "        feature_vector_to_image(left_testing_features[i])\n",
    "\n",
    "print \"\\n\\nRIGHT PREDICTIONS THAT WERE WRONG\"\n",
    "for i, label in enumerate(right_testing_labels):\n",
    "    testing_label = right_testing_labels[i]\n",
    "    prediction_result = right_classifier.predict([right_testing_features[i]])[0]\n",
    "    prediction_probablity = right_classifier.predict_proba([right_testing_features[i]])[0].max()\n",
    "    if prediction_result != testing_label:\n",
    "        print \"predicted %s (but should be %s) with confidence %.2f\" % (constants.REVERSE_LABELS[prediction_result], constants.REVERSE_LABELS[testing_label], prediction_probablity *100)\n",
    "        feature_vector_to_image(right_testing_features[i])"
   ]
  }
 ],
 "metadata": {
  "kernelspec": {
   "display_name": "Python 2",
   "language": "python",
   "name": "python2"
  },
  "language_info": {
   "codemirror_mode": {
    "name": "ipython",
    "version": 2
   },
   "file_extension": ".py",
   "mimetype": "text/x-python",
   "name": "python",
   "nbconvert_exporter": "python",
   "pygments_lexer": "ipython2",
   "version": "2.7.9"
  }
 },
 "nbformat": 4,
 "nbformat_minor": 2
}
